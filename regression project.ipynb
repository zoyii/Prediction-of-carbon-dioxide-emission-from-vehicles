{
 "cells": [
  {
   "cell_type": "code",
   "execution_count": 72,
   "metadata": {},
   "outputs": [],
   "source": [
    "                #importing libraries\n",
    "import numpy as np, pandas as pd, matplotlib.pyplot as plt\n",
    "import seaborn as sns\n",
    "from sklearn.model_selection import train_test_split\n",
    "from sklearn.preprocessing import MinMaxScaler\n",
    "from sklearn.linear_model import LinearRegression\n",
    "from sklearn.neighbors import KNeighborsRegressor\n",
    "from sklearn import linear_model\n",
    "from sklearn.preprocessing import LabelEncoder\n",
    "from sklearn.metrics import mean_absolute_error\n",
    "from sklearn.metrics import mean_squared_error\n",
    "from math import sqrt\n",
    "from sklearn.metrics import r2_score\n",
    "from sklearn.model_selection import cross_val_score, cross_val_predict"
   ]
  },
  {
   "cell_type": "code",
   "execution_count": 71,
   "metadata": {},
   "outputs": [],
   "source": [
    "                #loading dataset \n",
    "df = pd.read_csv(\"C:\\\\Users\\\\Mahnoor Hashmi\\\\Desktop\\\\CO2 Emissions_Canada.csv\")"
   ]
  },
  {
   "cell_type": "code",
   "execution_count": 58,
   "metadata": {},
   "outputs": [],
   "source": [
    "                #transforming catagorical to numerical features\n",
    "le = LabelEncoder()\n",
    "Model_encoded = le.fit_transform(df['Model'])\n",
    "Make_encoded = le.fit_transform(df['Make'])\n",
    "Transmission_encoded = le.fit_transform(df['Transmission'])\n",
    "Vehical_encoded = le.fit_transform(df['Vehicle Class'])\n",
    "Fuel_encoded = le.fit_transform(df['Fuel Type'])"
   ]
  },
  {
   "cell_type": "code",
   "execution_count": 59,
   "metadata": {
    "scrolled": true
   },
   "outputs": [
    {
     "name": "stdout",
     "output_type": "stream",
     "text": [
      "       Make        Model   Vehicle Class  Engine Size(L)  Cylinders  \\\n",
      "0     ACURA          ILX         COMPACT             2.0          4   \n",
      "1     ACURA          ILX         COMPACT             2.4          4   \n",
      "2     ACURA   ILX HYBRID         COMPACT             1.5          4   \n",
      "3     ACURA      MDX 4WD     SUV - SMALL             3.5          6   \n",
      "4     ACURA      RDX AWD     SUV - SMALL             3.5          6   \n",
      "...     ...          ...             ...             ...        ...   \n",
      "7380  VOLVO  XC40 T5 AWD     SUV - SMALL             2.0          4   \n",
      "7381  VOLVO  XC60 T5 AWD     SUV - SMALL             2.0          4   \n",
      "7382  VOLVO  XC60 T6 AWD     SUV - SMALL             2.0          4   \n",
      "7383  VOLVO  XC90 T5 AWD  SUV - STANDARD             2.0          4   \n",
      "7384  VOLVO  XC90 T6 AWD  SUV - STANDARD             2.0          4   \n",
      "\n",
      "     Transmission Fuel Type  Fuel Consumption City (L/100 km)  \\\n",
      "0             AS5         Z                               9.9   \n",
      "1              M6         Z                              11.2   \n",
      "2             AV7         Z                               6.0   \n",
      "3             AS6         Z                              12.7   \n",
      "4             AS6         Z                              12.1   \n",
      "...           ...       ...                               ...   \n",
      "7380          AS8         Z                              10.7   \n",
      "7381          AS8         Z                              11.2   \n",
      "7382          AS8         Z                              11.7   \n",
      "7383          AS8         Z                              11.2   \n",
      "7384          AS8         Z                              12.2   \n",
      "\n",
      "      Fuel Consumption Hwy (L/100 km)  Fuel Consumption Comb (L/100 km)  \\\n",
      "0                                 6.7                               8.5   \n",
      "1                                 7.7                               9.6   \n",
      "2                                 5.8                               5.9   \n",
      "3                                 9.1                              11.1   \n",
      "4                                 8.7                              10.6   \n",
      "...                               ...                               ...   \n",
      "7380                              7.7                               9.4   \n",
      "7381                              8.3                               9.9   \n",
      "7382                              8.6                              10.3   \n",
      "7383                              8.3                               9.9   \n",
      "7384                              8.7                              10.7   \n",
      "\n",
      "      Fuel Consumption Comb (mpg)  CO2 Emissions(g/km)  new_Make  new_Model  \\\n",
      "0                              33                  196         0       1057   \n",
      "1                              29                  221         0       1057   \n",
      "2                              48                  136         0       1058   \n",
      "3                              25                  255         0       1233   \n",
      "4                              27                  244         0       1499   \n",
      "...                           ...                  ...       ...        ...   \n",
      "7380                           30                  219        41       1951   \n",
      "7381                           29                  232        41       1957   \n",
      "7382                           27                  240        41       1960   \n",
      "7383                           29                  232        41       1968   \n",
      "7384                           26                  248        41       1969   \n",
      "\n",
      "      new_Transmission  new_Vehicle_Class  new_Fuel_Type  \n",
      "0                   14                  0              4  \n",
      "1                   25                  0              4  \n",
      "2                   22                  0              4  \n",
      "3                   15                 11              4  \n",
      "4                   15                 11              4  \n",
      "...                ...                ...            ...  \n",
      "7380                17                 11              4  \n",
      "7381                17                 11              4  \n",
      "7382                17                 11              4  \n",
      "7383                17                 12              4  \n",
      "7384                17                 12              4  \n",
      "\n",
      "[7385 rows x 17 columns]\n"
     ]
    }
   ],
   "source": [
    "                #adding transformed featuresin the data frame\n",
    "df['new_Make'] = Make_encoded\n",
    "df['new_Model'] = Model_encoded\n",
    "df['new_Transmission'] = Transmission_encoded\n",
    "df['new_Vehicle_Class'] = Vehical_encoded\n",
    "df['new_Fuel_Type'] = Fuel_encoded\n",
    "print(df)"
   ]
  },
  {
   "cell_type": "code",
   "execution_count": 60,
   "metadata": {},
   "outputs": [
    {
     "name": "stdout",
     "output_type": "stream",
     "text": [
      "   Engine Size(L)  Cylinders  Fuel Consumption City (L/100 km)  \\\n",
      "0             2.0          4                               9.9   \n",
      "1             2.4          4                              11.2   \n",
      "2             1.5          4                               6.0   \n",
      "3             3.5          6                              12.7   \n",
      "4             3.5          6                              12.1   \n",
      "\n",
      "   Fuel Consumption Hwy (L/100 km)  Fuel Consumption Comb (L/100 km)  \\\n",
      "0                              6.7                               8.5   \n",
      "1                              7.7                               9.6   \n",
      "2                              5.8                               5.9   \n",
      "3                              9.1                              11.1   \n",
      "4                              8.7                              10.6   \n",
      "\n",
      "   Fuel Consumption Comb (mpg)  CO2 Emissions(g/km)  new_Make  new_Model  \\\n",
      "0                           33                  196         0       1057   \n",
      "1                           29                  221         0       1057   \n",
      "2                           48                  136         0       1058   \n",
      "3                           25                  255         0       1233   \n",
      "4                           27                  244         0       1499   \n",
      "\n",
      "   new_Transmission  new_Vehicle_Class  new_Fuel_Type  \n",
      "0                14                  0              4  \n",
      "1                25                  0              4  \n",
      "2                22                  0              4  \n",
      "3                15                 11              4  \n",
      "4                15                 11              4  \n"
     ]
    }
   ],
   "source": [
    "                #dropping redundant variables\n",
    "list=['Make','Model','Fuel Type', 'Vehicle Class','Transmission']\n",
    "data=df.drop(list, axis=1)\n",
    "print(data.head())"
   ]
  },
  {
   "cell_type": "code",
   "execution_count": 61,
   "metadata": {
    "scrolled": true
   },
   "outputs": [
    {
     "data": {
      "text/html": [
       "<div>\n",
       "<style scoped>\n",
       "    .dataframe tbody tr th:only-of-type {\n",
       "        vertical-align: middle;\n",
       "    }\n",
       "\n",
       "    .dataframe tbody tr th {\n",
       "        vertical-align: top;\n",
       "    }\n",
       "\n",
       "    .dataframe thead th {\n",
       "        text-align: right;\n",
       "    }\n",
       "</style>\n",
       "<table border=\"1\" class=\"dataframe\">\n",
       "  <thead>\n",
       "    <tr style=\"text-align: right;\">\n",
       "      <th></th>\n",
       "      <th>Engine Size(L)</th>\n",
       "      <th>Cylinders</th>\n",
       "      <th>Fuel Consumption City (L/100 km)</th>\n",
       "      <th>Fuel Consumption Hwy (L/100 km)</th>\n",
       "      <th>Fuel Consumption Comb (L/100 km)</th>\n",
       "      <th>Fuel Consumption Comb (mpg)</th>\n",
       "      <th>CO2 Emissions(g/km)</th>\n",
       "      <th>new_Make</th>\n",
       "      <th>new_Model</th>\n",
       "      <th>new_Transmission</th>\n",
       "      <th>new_Vehicle_Class</th>\n",
       "      <th>new_Fuel_Type</th>\n",
       "    </tr>\n",
       "  </thead>\n",
       "  <tbody>\n",
       "    <tr>\n",
       "      <th>0</th>\n",
       "      <td>2.0</td>\n",
       "      <td>4</td>\n",
       "      <td>9.9</td>\n",
       "      <td>6.7</td>\n",
       "      <td>8.5</td>\n",
       "      <td>33</td>\n",
       "      <td>196</td>\n",
       "      <td>0</td>\n",
       "      <td>1057</td>\n",
       "      <td>14</td>\n",
       "      <td>0</td>\n",
       "      <td>4</td>\n",
       "    </tr>\n",
       "    <tr>\n",
       "      <th>1</th>\n",
       "      <td>2.4</td>\n",
       "      <td>4</td>\n",
       "      <td>11.2</td>\n",
       "      <td>7.7</td>\n",
       "      <td>9.6</td>\n",
       "      <td>29</td>\n",
       "      <td>221</td>\n",
       "      <td>0</td>\n",
       "      <td>1057</td>\n",
       "      <td>25</td>\n",
       "      <td>0</td>\n",
       "      <td>4</td>\n",
       "    </tr>\n",
       "    <tr>\n",
       "      <th>2</th>\n",
       "      <td>1.5</td>\n",
       "      <td>4</td>\n",
       "      <td>6.0</td>\n",
       "      <td>5.8</td>\n",
       "      <td>5.9</td>\n",
       "      <td>48</td>\n",
       "      <td>136</td>\n",
       "      <td>0</td>\n",
       "      <td>1058</td>\n",
       "      <td>22</td>\n",
       "      <td>0</td>\n",
       "      <td>4</td>\n",
       "    </tr>\n",
       "    <tr>\n",
       "      <th>3</th>\n",
       "      <td>3.5</td>\n",
       "      <td>6</td>\n",
       "      <td>12.7</td>\n",
       "      <td>9.1</td>\n",
       "      <td>11.1</td>\n",
       "      <td>25</td>\n",
       "      <td>255</td>\n",
       "      <td>0</td>\n",
       "      <td>1233</td>\n",
       "      <td>15</td>\n",
       "      <td>11</td>\n",
       "      <td>4</td>\n",
       "    </tr>\n",
       "    <tr>\n",
       "      <th>4</th>\n",
       "      <td>3.5</td>\n",
       "      <td>6</td>\n",
       "      <td>12.1</td>\n",
       "      <td>8.7</td>\n",
       "      <td>10.6</td>\n",
       "      <td>27</td>\n",
       "      <td>244</td>\n",
       "      <td>0</td>\n",
       "      <td>1499</td>\n",
       "      <td>15</td>\n",
       "      <td>11</td>\n",
       "      <td>4</td>\n",
       "    </tr>\n",
       "  </tbody>\n",
       "</table>\n",
       "</div>"
      ],
      "text/plain": [
       "   Engine Size(L)  Cylinders  Fuel Consumption City (L/100 km)  \\\n",
       "0             2.0          4                               9.9   \n",
       "1             2.4          4                              11.2   \n",
       "2             1.5          4                               6.0   \n",
       "3             3.5          6                              12.7   \n",
       "4             3.5          6                              12.1   \n",
       "\n",
       "   Fuel Consumption Hwy (L/100 km)  Fuel Consumption Comb (L/100 km)  \\\n",
       "0                              6.7                               8.5   \n",
       "1                              7.7                               9.6   \n",
       "2                              5.8                               5.9   \n",
       "3                              9.1                              11.1   \n",
       "4                              8.7                              10.6   \n",
       "\n",
       "   Fuel Consumption Comb (mpg)  CO2 Emissions(g/km)  new_Make  new_Model  \\\n",
       "0                           33                  196         0       1057   \n",
       "1                           29                  221         0       1057   \n",
       "2                           48                  136         0       1058   \n",
       "3                           25                  255         0       1233   \n",
       "4                           27                  244         0       1499   \n",
       "\n",
       "   new_Transmission  new_Vehicle_Class  new_Fuel_Type  \n",
       "0                14                  0              4  \n",
       "1                25                  0              4  \n",
       "2                22                  0              4  \n",
       "3                15                 11              4  \n",
       "4                15                 11              4  "
      ]
     },
     "execution_count": 61,
     "metadata": {},
     "output_type": "execute_result"
    }
   ],
   "source": [
    "data.head()"
   ]
  },
  {
   "cell_type": "code",
   "execution_count": 62,
   "metadata": {},
   "outputs": [
    {
     "data": {
      "text/plain": [
       "<matplotlib.axes._subplots.AxesSubplot at 0x1a304d35c88>"
      ]
     },
     "execution_count": 62,
     "metadata": {},
     "output_type": "execute_result"
    },
    {
     "data": {
      "image/png": "[encoded data removed]",
      "text/plain": [
       "<Figure size 432x288 with 2 Axes>"
      ]
     },
     "metadata": {
      "needs_background": "light"
     },
     "output_type": "display_data"
    }
   ],
   "source": [
    "                #checking correlation using heatmap\n",
    "corr = df.corr()\n",
    "sns.heatmap(corr, xticklabels=corr.columns, yticklabels=corr.columns)"
   ]
  },
  {
   "cell_type": "code",
   "execution_count": 63,
   "metadata": {},
   "outputs": [
    {
     "name": "stdout",
     "output_type": "stream",
     "text": [
      "      Engine Size(L)  Cylinders  Fuel Consumption City (L/100 km)  \\\n",
      "0                2.0          4                               9.9   \n",
      "1                2.4          4                              11.2   \n",
      "2                1.5          4                               6.0   \n",
      "3                3.5          6                              12.7   \n",
      "4                3.5          6                              12.1   \n",
      "...              ...        ...                               ...   \n",
      "7380             2.0          4                              10.7   \n",
      "7381             2.0          4                              11.2   \n",
      "7382             2.0          4                              11.7   \n",
      "7383             2.0          4                              11.2   \n",
      "7384             2.0          4                              12.2   \n",
      "\n",
      "      Fuel Consumption Hwy (L/100 km)  Fuel Consumption Comb (L/100 km)  \\\n",
      "0                                 6.7                               8.5   \n",
      "1                                 7.7                               9.6   \n",
      "2                                 5.8                               5.9   \n",
      "3                                 9.1                              11.1   \n",
      "4                                 8.7                              10.6   \n",
      "...                               ...                               ...   \n",
      "7380                              7.7                               9.4   \n",
      "7381                              8.3                               9.9   \n",
      "7382                              8.6                              10.3   \n",
      "7383                              8.3                               9.9   \n",
      "7384                              8.7                              10.7   \n",
      "\n",
      "      Fuel Consumption Comb (mpg)  CO2 Emissions(g/km)  new_Make  new_Model  \\\n",
      "0                              33                  196         0       1057   \n",
      "1                              29                  221         0       1057   \n",
      "2                              48                  136         0       1058   \n",
      "3                              25                  255         0       1233   \n",
      "4                              27                  244         0       1499   \n",
      "...                           ...                  ...       ...        ...   \n",
      "7380                           30                  219        41       1951   \n",
      "7381                           29                  232        41       1957   \n",
      "7382                           27                  240        41       1960   \n",
      "7383                           29                  232        41       1968   \n",
      "7384                           26                  248        41       1969   \n",
      "\n",
      "      new_Transmission  new_Vehicle_Class  new_Fuel_Type  \n",
      "0                   14                  0              4  \n",
      "1                   25                  0              4  \n",
      "2                   22                  0              4  \n",
      "3                   15                 11              4  \n",
      "4                   15                 11              4  \n",
      "...                ...                ...            ...  \n",
      "7380                17                 11              4  \n",
      "7381                17                 11              4  \n",
      "7382                17                 11              4  \n",
      "7383                17                 12              4  \n",
      "7384                17                 12              4  \n",
      "\n",
      "[7385 rows x 12 columns]\n"
     ]
    }
   ],
   "source": [
    "                #assigning features their roles as dependant and independent\n",
    "y= data[\"CO2 Emissions(g/km)\"]\n",
    "x= data[['new_Transmission','new_Vehicle_Class', 'Engine Size(L)', 'Fuel Consumption Comb (L/100 km)']]\n",
    "print(data)"
   ]
  },
  {
   "cell_type": "code",
   "execution_count": 64,
   "metadata": {},
   "outputs": [
    {
     "data": {
      "text/plain": [
       "(7385, 4)"
      ]
     },
     "execution_count": 64,
     "metadata": {},
     "output_type": "execute_result"
    }
   ],
   "source": [
    "x.shape"
   ]
  },
  {
   "cell_type": "code",
   "execution_count": 65,
   "metadata": {},
   "outputs": [
    {
     "data": {
      "text/plain": [
       "(7385,)"
      ]
     },
     "execution_count": 65,
     "metadata": {},
     "output_type": "execute_result"
    }
   ],
   "source": [
    "y.shape"
   ]
  },
  {
   "cell_type": "code",
   "execution_count": 66,
   "metadata": {},
   "outputs": [],
   "source": [
    "                #transforming data in a specific range\n",
    "scaler = MinMaxScaler(feature_range=(0,1))\n",
    "x= scaler.fit_transform(x)"
   ]
  },
  {
   "cell_type": "code",
   "execution_count": 67,
   "metadata": {},
   "outputs": [],
   "source": [
    "                #spliting the data inro train and test\n",
    "X_train, X_test, Y_train, Y_test = train_test_split(x, y, test_size=0.20, random_state=42)"
   ]
  },
  {
   "cell_type": "code",
   "execution_count": 68,
   "metadata": {},
   "outputs": [
    {
     "name": "stdout",
     "output_type": "stream",
     "text": [
      "LinearRegression\n",
      "MAE:  13.443496420130234\n",
      "RMSE:  20.407599795668926\n",
      "R2:  0.8781734931111508\n",
      "Cross_validated score:  [0.78098364 0.87804072 0.88741893 0.84326773 0.89131784 0.90898736\n",
      " 0.86025115 0.86758551 0.92200745 0.89478396]\n",
      "Cross_validated mean:  0.8734644291813494\n",
      "KNeighborsRegressor\n",
      "MAE:  3.604400812457684\n",
      "RMSE:  6.803698862574173\n",
      "R2:  0.9864590822432698\n",
      "Cross_validated score:  [0.91568464 0.96944841 0.97285223 0.98525496 0.98172983 0.97683189\n",
      " 0.97490192 0.98670711 0.97568645 0.97506837]\n",
      "Cross_validated mean:  0.971416581671984\n"
     ]
    }
   ],
   "source": [
    "                #declaring, fitting, evaluating and validting models\n",
    "models = [LinearRegression(), KNeighborsRegressor()] \n",
    "for model in models:\n",
    "    model.fit(X_train, Y_train)\n",
    "    prediction = model.predict(X_train)\n",
    "    print(type(model).__name__)\n",
    "    print(\"MAE: \", mean_absolute_error(Y_train, prediction))\n",
    "    print(\"RMSE: \", sqrt(mean_squared_error(Y_train, prediction)))\n",
    "    print(\"R2: \", r2_score(Y_train, prediction))\n",
    "    validation_score = cross_val_score(model, x, y, cv=10)\n",
    "    print('Cross_validated score: ' , validation_score)\n",
    "    print('Cross_validated mean: ', validation_score.mean())"
   ]
  }
 ],
 "metadata": {
  "kernelspec": {
   "display_name": "Python 3",
   "language": "python",
   "name": "python3"
  },
  "language_info": {
   "codemirror_mode": {
    "name": "ipython",
    "version": 3
   },
   "file_extension": ".py",
   "mimetype": "text/x-python",
   "name": "python",
   "nbconvert_exporter": "python",
   "pygments_lexer": "ipython3",
   "version": "3.7.6"
  }
 },
 "nbformat": 4,
 "nbformat_minor": 4
}
